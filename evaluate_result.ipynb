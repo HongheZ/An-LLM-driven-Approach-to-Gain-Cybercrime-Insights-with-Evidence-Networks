{
 "cells": [
  {
   "cell_type": "code",
   "execution_count": 15,
   "metadata": {},
   "outputs": [],
   "source": [
    "import pandas as pd\n",
    "from ast import literal_eval\n",
    "from difflib import SequenceMatcher\n",
    "import langchain_chatgpt\n",
    "def similar(a, b):\n",
    "    return SequenceMatcher(None, a, b).ratio()"
   ]
  },
  {
   "cell_type": "markdown",
   "metadata": {},
   "source": [
    "1. evidence entity coverage"
   ]
  },
  {
   "cell_type": "code",
   "execution_count": 16,
   "metadata": {},
   "outputs": [],
   "source": [
    "#evidence entity coverage\n",
    "import pandas as pd\n",
    "\n",
    "def calculate_accuracy(data_summary_path, db_graph_file_path,xml_graph_file_path):        \n",
    "    \n",
    "    similar_evidence_mapping = langchain_chatgpt.get_group_result_from_txt(\"/home/hzhou/llama2/llama/experiment_result/result/Apps_in_the_document/group_result.txt\")\n",
    "    \n",
    "    #load orginal document summary files, db grapg file and xml graph file\n",
    "    df1_original_document = pd.read_csv(data_summary_path)\n",
    "    df2_db = pd.read_csv(db_graph_file_path)\n",
    "    df3_xml= pd.read_csv(xml_graph_file_path)\n",
    "    \n",
    "    for index, row in df2_db.iterrows():\n",
    "        if row['node_evidence'] in similar_evidence_mapping:\n",
    "            df2_db.loc[index, 'node_evidence'] = similar_evidence_mapping[row['node_evidence']]\n",
    "    \n",
    "    for index, row in df3_xml.iterrows():\n",
    "            if row['node_evidence'] in similar_evidence_mapping:\n",
    "                df3_xml.loc[index, 'node_evidence'] = similar_evidence_mapping[row['node_evidence']]\n",
    "\n",
    "    evidence_count=0\n",
    "    for index, row in df1_original_document.iterrows():\n",
    "        node_evidence_document = row['node_evidence']\n",
    "        \n",
    "        if node_evidence_document in similar_evidence_mapping:\n",
    "            node_evidence_document= similar_evidence_mapping[node_evidence_document]  #actual_from_node_name's type is array\n",
    "            \n",
    "        #Check db graph result file whether contain this evidence\n",
    "        if node_evidence_document in df2_db['node_evidence'].values:\n",
    "            evidence_count=evidence_count+1  \n",
    "            continue\n",
    "        # else:\n",
    "        #     print(node_evidence_document)  \n",
    "        \n",
    "        #Check xml graph result file whether contain this evidence\n",
    "        if node_evidence_document in df3_xml['node_evidence'].values:\n",
    "            evidence_count=evidence_count+1  \n",
    "            continue\n",
    "        else:\n",
    "            print(node_evidence_document)  \n",
    "\n",
    "    print(evidence_count)\n",
    "    # Extract the 'node_evidence' columns\n",
    "    node_evidence_1 = df1_original_document['node_evidence']\n",
    "\n",
    "\n",
    "    # Calculate how many items in node_evidence_1 are present in node_evidence_2\n",
    "    # evidence_count = node_evidence_1.isin(node_evidence_2).sum()\n",
    "\n",
    "    # Calculate the accuracy\n",
    "    accuracy = evidence_count / len(node_evidence_1)\n",
    "    print(len(node_evidence_1))\n",
    "    return accuracy\n"
   ]
  },
  {
   "cell_type": "code",
   "execution_count": 17,
   "metadata": {},
   "outputs": [
    {
     "name": "stdout",
     "output_type": "stream",
     "text": [
      "919-574-4674\n",
      "9195744674\n",
      "@TDfir\n",
      "@ThisIs-DFIR\n",
      "919-574-4674\n",
      "7629 Purfoy Road in Fuquay-Varina, North Carolina\n",
      "Sir Walter Coffee in Holly Springs, North Carolina\n",
      "3.32629E+11\n",
      "tdfirtwo\n",
      "This Is DFIR Two\n",
      "thisisdfirtwo\n",
      "42\n",
      "53\n"
     ]
    },
    {
     "data": {
      "text/plain": [
       "0.7924528301886793"
      ]
     },
     "execution_count": 17,
     "metadata": {},
     "output_type": "execute_result"
    }
   ],
   "source": [
    "# Example usage\n",
    "data_summary_path = '/home/hzhou/llama2/llama/experiment_result/result/Apps_in_the_document/Android10 data summary for graph.csv'\n",
    "db_graph_file_path = '/home/hzhou/llama2/llama/experiment_result/result/Apps_in_the_document/db_graphstep2_Apps_in_the_Document.csv'\n",
    "xml_graph_file_path = \"/home/hzhou/llama2/llama/experiment_result/result/Apps_in_the_document/xml_graphstep1_Apps_in_the_Document.csv\"\n",
    "accuracy = calculate_accuracy(data_summary_path, db_graph_file_path,xml_graph_file_path)\n",
    "accuracy"
   ]
  },
  {
   "cell_type": "code",
   "execution_count": 4,
   "metadata": {},
   "outputs": [
    {
     "name": "stdout",
     "output_type": "stream",
     "text": [
      "{'thisisdfir@gmail.com': ['thisisdfir@gmail.com'], '16505434800@s.whatsapp.net': ['16505434800@s.whatsapp.net', '1,0@s.whatsapp.net', '19195790479@s.whatsapp.net', '0@s.whatsapp.net'], 'urbanbook_wac@talk.kik.com': ['urbanbook_wac@talk.kik.com', 'belikebot_nnm@talk.kik.com', 'oneliners.bot_vcc@talk.kik.com', 'huggingface_9j1@talk.kik.com', 'magiceightbot_b0j@talk.kik.com', 'whoshuman_xet@talk.kik.com', 'musicvidz_slm@talk.kik.com', 'm1573r.bot_l0s@talk.kik.com', 'lensbot_nep@talk.kik.com', 'checkgc_bwc@talk.kik.com', 'hiredhelponsequel_pzn@talk.kik.com', 'madlibs_c0r@talk.kik.com', 'fortniteace_4z8@talk.kik.com', 'translator.bot_m7e@talk.kik.com', 'video.bot_qep@talk.kik.com', 'astronomy.bot_9tu@talk.kik.com', 'funb07_fkg@talk.kik.com', 'holybiblebot_4ze@talk.kik.com', 'wikipedia.bot_5ti@talk.kik.com', 'yomama.bot_ohm@talk.kik.com', 'tune_ttm@talk.kik.com', 'poetrybot_1bc@talk.kik.com', 'images.bot_66b@talk.kik.com', 'gameofhangman_ia8@talk.kik.com', 'chattymcchatface_1pz@talk.kik.com', 'sendgifbot_6bk@talk.kik.com', 'kwilt_ooc@talk.kik.com', 'guggy_w43@talk.kik.com', 'scary.bot_oyf@talk.kik.com', 'gameebot_jvt@talk.kik.com', 'quizzes_yrr@talk.kik.com', 'garygamebot_z99@talk.kik.com', 'shinetext_eq5@talk.kik.com', 'remindmii_8v9@talk.kik.com', 'roll_871@talk.kik.com', 'secretsanta_5h9@talk.kik.com', 'imagefilters_2fd@talk.kik.com', 'askanybot_wav@talk.kik.com', 'grouptriviabot_7h1@talk.kik.com', 'webpushbot_xyz@talk.kik.com', 'dadjokes.bot_6qo@talk.kik.com', 'meme.gen_0cm@talk.kik.com', 'englishquran_n3q@talk.kik.com', 'nathebot_78o@talk.kik.com', 'redditorbot_mbh@talk.kik.com', 'd12bot_19m@talk.kik.com', 'memes.bot_8n6@talk.kik.com', 'guggysticker_w1p@talk.kik.com', 'funnyordie_n6v@talk.kik.com', 'snipfeed_hlp@talk.kik.com', 'murdermysterybot_z7w@talk.kik.com', 'blinkthebee_vdc@talk.kik.com', 'vlip_kc2@talk.kik.com', 'kikteam@talk.kik.com', 'jobmarket_0xm@talk.kik.com', 'ask.bot_uhe@talk.kik.com', 'freegameaday_wq8@talk.kik.com', 'emojiquiz_q6u@talk.kik.com', 'askabot_fyb@talk.kik.com', 'motivatebot_ie1@talk.kik.com', 'groupgame_0rn@talk.kik.com', 'cards.quiz.trivia_f82@talk.kik.com', 'j14_b8m@talk.kik.com', 'whattoeat_g5l@talk.kik.com']}\n",
      "{'Young Ashy God': ['Young Ashy God'], 'Mark Wahlberg': ['Mark Wahlberg', 'Marc Wahlberg'], 'elleduncanESPN': ['elleduncanESPN'], 'Carl': ['Carl'], 'Ryota': ['Ryota'], 'Minnie Mouse': ['Minnie Mouse'], 'Scott Cartledge': ['Scott Cartledge'], 'christine teigen': ['christine teigen', 'chrissy teigen', 'Cravings by Chrissy Teigen', 'Christine Teigen', 'Chrissy Teigen', 'chrissyteigen'], 'Adam Jacobi': ['Adam Jacobi'], 'Abhay': ['Abhay'], 'Donald Duck': ['Donald Duck'], 'Keiko Sootome': ['Keiko Sootome'], 'Taylor Williams': ['Taylor Williams'], 'Chester Yavari': ['Chester Yavari'], 'Chef Pino': ['Chef Pino'], 'Yassir Lester': ['Yassir Lester', 'Wendy Lester'], 'Luna': ['Luna', 'luna'], 'Jillian Saucier': ['Jillian Saucier'], 'josh hickman': ['josh', 'Josh', 'Josh Hick', 'Joshua Hick', 'josh_hickman', 'Hickman, Josh', 'Joshua K Hickman', 'Joshua Hickman', 'josh hickman', 'Hickman', 'hickman'], 'Pharrell Williams': ['Pharrell Williams', 'Pharrell'], 'Ashley Feinberg': ['Ashley Feinberg', 'Ashley Huggin', 'Ashley Yoder'], 'The Gods Themselves': ['The Gods Themselves'], 'Allison Robicelli': ['Allison Robicelli'], 'Otieno Terry': ['Otieno Terry'], 'Krisy Anne': ['Krisy Anne'], \"Qi'ra\": [\"Qi'ra\", 'Qira'], 'HaileyKAustin': ['HaileyKAustin', 'Hailey Austin', 'Hailey K Austin'], 'Amanda Mauer': ['Amanda Mauer', 'Amanda Mull'], 'Justin': ['Justin', 'Justin Bieber'], 'Jemele Hill': ['Jemele Hill'], 'Matt Kemp': ['Matt Kemp'], 'Ganesh': ['Ganesh'], 'Chewie': ['Chewie'], 'Jessica Hyde': ['Jessica Hyde', 'Jessica Pope', 'Jessica'], 'ThisIsDFIR': ['ThisIsDFIR', 'ThisIs DFIR', 'ThisIs DFir', 'ThisIs Dfir', 'thisisdfir', 'This Is DFIR', 'Thisisdfir'], 'Parappa The Rapper': ['Parappa The Rapper'], 'puddy': ['puddy'], 'Bob Brigham': ['Bob Brigham', 'Bob'], 'TV TOKYO Communications Corporation/SNOOPY': ['TV TOKYO Communications Corporation/SNOOPY'], 'MatthewKBegbie': ['MatthewKBegbie'], 'Jon Cryer': ['Jon Cryer'], 'Reagan': ['Reagan'], 'Samantha Huggin': ['Samantha Huggin'], 'Cuppy': ['Cuppy'], 'Wallace': ['Wallace'], 'Erin Ryan': ['Erin Ryan', 'Dr Erin Ryan'], 'Annalie Contreras': ['Annalie Contreras'], 'Darth Maul': ['Darth Maul'], 'Jacob Shamsian': ['Jacob Shamsian', 'Jacob Barrett'], 'Johnny Pyro': ['Johnny Pyro'], 'West is Best': ['West is Best'], 'Toivo': ['Toivo'], 'Tom Hanks': ['Tom Hanks', 'Chet Hanks'], 'Judy E Heath': ['Judy E Heath'], 'Kobayashi Takeru': ['Kobayashi Takeru'], 'Sky Marie': ['Sky Marie'], 'Carla Jane': ['Carla Jane'], 'Warren': ['Warren'], 'Nic Warner': ['Nic Warner'], 'Sam Stein': ['Sam Stein'], 'ChristineFox': ['ChristineFox'], 'Firehouse Subs': ['Firehouse Subs'], 'Tinker Bell': ['Tinker Bell'], 'Sleep Number': ['Sleep Number'], 'Christopher Robin': ['Christopher Robin'], 'Meghan Markle': ['Meghan Markle', 'Meghan McDonough'], 'Trevor J. Mitchell': ['Trevor J. Mitchell'], 'Wesley Skinner': ['Wesley Skinner'], 'Shaun the Sheep': ['Shaun the Sheep', 'Shaun'], 'Jotaro': ['Jotaro'], 'Kylo Ren': ['Kylo Ren', 'Captain Phasma'], 'Emily Nunn': ['Emily Nunn'], 'Heidy': ['Heidy'], 'Daniel Dale': ['Daniel Dale'], 'Kelly McGrath': ['Kelly McGrath'], 'John': ['John', 'John Iadarola', 'John Legend', 'john', 'John Hicks', 'John Brown', 'John Stone', 'johnlegend'], 'Mimmy': ['Mimmy'], 'Erfon Elijah': ['Erfon Elijah'], 'Richard Lawson': ['Richard Lawson', 'Richard Marx'], 'Tianna DeChick': ['Tianna DeChick'], 'Stace Force': ['Stace Force'], 'Jeremy Clarkson': ['Jeremy Clarkson'], 'Jeff Meltz': ['Jeff Meltz', 'Jefferee The Refferee'], 'devon maloney': ['devon maloney', 'Devon A.'], 'Jetro': ['Jetro'], 'Chuck': ['Chuck'], 'Robert De Niro': ['Robert De Niro'], 'Michael Estrella': ['Michael Estrella', 'Michael', 'Michael Rose', 'Micheal Curtis'], 'Masha': ['Masha'], 'Beth Comstock': ['Beth Comstock'], 'Smokey Brights': ['Smokey Brights'], 'Ismat Sarah Mangla': ['Ismat Sarah Mangla'], 'Lando': ['Lando'], 'Kyle Griffin': ['Kyle Griffin'], 'Airnold Freshman': ['Airnold Freshman'], 'Kelsey Caine': ['Kelsey Caine'], 'Jungle Brown': ['Jungle Brown'], 'Josh Hickman': ['Josh Hickman'], 'Christi Adele': ['Christi Adele'], 'Hello Kitty': ['Hello Kitty'], 'Rachel Maddow': ['Rachel Maddow'], 'Austin Gilkeson': ['Austin Gilkeson'], 'Stoney Heishman': ['Stoney Heishman'], 'Illoquint': ['Illoquint'], 'Helen Kennedy': ['Helen Kennedy'], 'Daniel Pak': ['Daniel Pak'], 'Liz Rabban': ['Liz Rabban'], 'Sady Paulson': ['Sady Paulson', 'sady paulson'], 'Komo': ['Komo'], 'Dana Gaier': ['Dana Gaier', 'Dana Schwartz'], 'jenwymer3': ['jenwymer3'], 'Evan': ['Evan'], 'Dr. Jekyll': ['Dr. Jekyll'], 'Ricky Gervais': ['Ricky Gervais'], 'Matt OswaltVA': ['Matt OswaltVA', 'Matt Oswalt'], 'Ira Madison III': ['Ira Madison III'], 'Louis Peitzman': ['Louis Peitzman'], 'Bartlett': ['Bartlett'], 'Luigi': ['Luigi'], 'Mariah Carey': ['Mariah Carey'], 'Sanat Rath': ['Sanat Rath'], 'Jennifer Lawrence': ['Jennifer Lawrence', 'Jennifer Aniston'], 'tracy clayton-hanks': ['tracy clayton-hanks'], 'Genesis USA': ['Genesis USA', 'GenesisUSA'], 'Courtney Turner': ['Courtney Turner', 'Courtney Enlow'], 'Mama Jay': ['Mama Jay'], 'Madeleine Behr': ['Madeleine Behr'], 'Morph': ['Morph'], 'Seth Green': ['Seth Green', 'Seth MacFarlane'], 'Dave': ['Dave', 'Dave Quinn'], 'Professor Layton': ['Professor Layton'], 'Dwayne': ['Dwayne', 'Dwayne Johnson'], 'dick costolo': ['dick costolo'], 'Beckett': ['Beckett'], 'HOLLY SPRINGS': ['HOLLY SPRINGS', 'Holly Springs'], 'Holly': ['Holly'], 'Blue Ivy': ['Blue Ivy'], 'Vigo Star': ['Vigo Star'], 'Gianfranco': ['Gianfranco'], 'Garfield': ['Garfield'], 'Frankie Huang': ['Frankie Huang'], 'Doctor Who': ['Doctor Who'], 'Stephen Colbert': ['Stephen Colbert'], 'Naima Cochrane': ['Naima Cochrane'], 'Oliver': ['Oliver'], 'Moji Hollywood': ['Moji Hollywood'], 'Preet Bharara': ['Preet Bharara'], 'Laurene Powell Jobs': ['Laurene Powell Jobs'], 'JenzoBeans': ['JenzoBeans'], 'Pope Francis': ['Pope Francis'], 'Winnie the Pooh': ['Winnie the Pooh'], 'Super Square': ['Super Square'], 'Kalen Allen': ['Kalen Allen'], 'Bush': ['Bush'], 'Nicole Chiumento': ['Nicole Chiumento'], 'The Bald Jedi': ['The Bald Jedi'], 'Sephora': ['Sephora'], 'Elizabeth Thorp': ['Elizabeth Thorp'], 'Mickey Mouse': ['Mickey Mouse', 'Mickey'], 'Kari Black': ['Kari Black'], 'Mark David Lacy': ['Mark David Lacy'], 'Mike Isaac': ['Mike Isaac'], 'Marie': ['Marie'], 'Alexandria Ocasio-Cortez': ['Alexandria Ocasio-Cortez'], 'Katie Wilfong': ['Katie Wilfong'], 'Allison Stephenson': ['Allison Stephenson'], 'Pippa': ['Pippa'], 'LINE': ['LINE'], 'Fawlty Towers': ['Fawlty Towers'], 'David Muir': ['David Muir'], 'Tona DaYoungan 💸': ['Tona DaYoungan 💸', 'Tona DaYoungan'], 'Kim Kardashian West': ['Kim Kardashian West', 'KimKardashian'], 'Clara Bacou': ['Clara Bacou', 'Clara'], 'Karen': ['Karen'], 'Addams Family': ['Addams Family'], 'Lul Sexy': ['Lul Sexy'], 'Robert Iger': ['Robert Iger'], 'Matt Buechele': ['Matt Buechele'], 'Hank Pym': ['Hank Pym'], 'Snekkard Slimeson': ['Snekkard Slimeson'], 'Nick Beaudrot': ['Nick Beaudrot'], 'jimmy fallon': ['jimmy fallon'], 'Joyce Alene': ['Joyce Alene', 'JoyceWhiteVance'], 'Jessi Pressly': ['Jessi Pressly'], 'Stu Holden': ['Stu Holden'], 'Aiko Kuninoi': ['Aiko Kuninoi'], 'Wanz': ['Wanz'], 'Ellen DeGeneres': ['Ellen DeGeneres', 'Ellen'], 'Nobuko': ['Nobuko'], 'Alisa Kryzhanovska': ['Alisa Kryzhanovska'], 'Troy Schnack': ['Troy Schnack'], 'Roger': ['Roger'], 'Jordan Uhl': ['Jordan Uhl', 'Jordan Debney'], 'andy lassner': ['andy lassner'], 'Siro': ['Siro'], 'Ann Shen': ['Ann Shen'], 'Brody Logan': ['Brody Logan'], 'Sharclife Capone': ['Sharclife Capone'], 'Kunaal Arya': ['Kunaal Arya'], 'Lauren T Earnhardt': ['Lauren T Earnhardt'], 'Chirag': ['Chirag'], 'nealbrennan': ['nealbrennan'], 'Moore': ['Moore', 'Grizzly MooreJr'], 'Charlie': ['Charlie'], 'Charlotte Clymer': ['Charlotte Clymer'], 'Stella': ['Stella'], 'Jamilah Lemieux': ['Jamilah Lemieux'], 'James Corden': ['James Corden', 'James Brownstein'], 'Julie Wilson': ['Julie Wilson'], 'Lil P-Nut, Jr.': ['Lil P-Nut, Jr.'], 'Koko': ['Koko'], 'david lynch': ['david lynch'], 'Larakate': ['Larakate'], 'Ben Cahn': ['Ben Cahn'], 'Marv Marvinson': ['Marv Marvinson'], 'Simon Key': ['Simon Key', 'Simon Maloy'], 'Peter': ['Peter'], 'Napoleon Dynamite': ['Napoleon Dynamite'], 'Kate Leth': ['Kate Leth'], 'Rob Kaplan': ['Rob Kaplan'], 'Anthony Anderson': ['Anthony Anderson', 'Anthony Bourdain'], 'Lindsay Jones': ['Lindsay Jones'], 'Matthew A. Cherry': ['Matthew A. Cherry'], 'Krystal Callahan': ['Krystal Callahan'], 'Simson Garfinkel': ['Simson Garfinkel'], 'Zane Lowe': ['Zane Lowe'], 'Heather Mahalik': ['Heather Mahalik'], 'Franklin Leonard': ['Franklin Leonard'], 'Gromit': ['Gromit'], 'Neil': ['Neil', 'Neal Brennan'], 'Edith': ['Edith'], 'Sir Walter Coffee + Kitchen': ['Sir Walter Coffee + Kitchen'], 'Lucille Glass': ['Lucille Glass'], 'Brian Moran': ['Brian Moran'], 'George Soros': ['George Soros'], 'Allie Motyka': ['Allie Motyka'], 'Bryce': ['Bryce'], 'Mary Robinson': ['Mary Robinson'], 'Bill Gates': ['Bill Gates'], 'Barchal': ['Barchal'], 'Steve Carell': ['Steve Carell'], 'Brandon Wenerd': ['Brandon Wenerd'], 'Jennifer Gunter': ['Jennifer Gunter'], 'Molly Jong-Fast': ['Molly Jong-Fast'], 'Maple McNut': ['Maple McNut'], 'Kobe': ['Kobe'], 'Sarah Edwards': ['Sarah Edwards'], 'Alice': ['Alice'], 'Rudolph': ['Rudolph', 'Rudolf'], 'Daniella Sannuti': ['Daniella Sannuti'], 'Penny Pony': ['Penny Pony'], 'Paul McCartney': ['Paul McCartney'], 'Kirbie “Baby Yoda Stan” Johnson': ['Kirbie “Baby Yoda Stan” Johnson'], 'Choklate': ['Choklate'], 'Shellie Bentz': ['Shellie Bentz'], 'Neil Patrick Harris': ['Neil Patrick Harris'], 'Satya Nadella': ['Satya Nadella'], 'Broseph McChug': ['Broseph McChug'], 'Ari Alexander': ['Ari Alexander'], \"Tim O'Donnell\": [\"Tim O'Donnell\"], 'Sana Saeed': ['Sana Saeed'], 'Kitty': ['Kitty'], 'Adam Dorn': ['Adam Dorn'], 'Lane': ['Lane'], 'Marshalls': ['Marshalls'], 'The Walt Disney Company (Japan) Ltd.': ['The Walt Disney Company (Japan) Ltd.'], 'Night Train Veeck': ['Night Train Veeck'], 'Enfys Nest': ['Enfys Nest'], 'Hatsune Miku': ['Hatsune Miku'], 'Jelly Nubs': ['Jelly Nubs'], 'Jameela Jamil': ['Jameela Jamil'], 'Aaron Sprinkle': ['Aaron Sprinkle', 'Aaron Levie'], 'Lauren Henry': ['Lauren Henry'], 'Sally': ['Sally', 'Sally Cool'], 'David Mack': ['David Mack'], 'James Brownstein': ['James Brownstein'], 'Yashar Ali': ['Yashar Ali'], 'Karalyn Holden': ['Karalyn Holden'], 'AshyVandross': ['AshyVandross'], 'Bobby Mac': ['Bobby Mac'], 'Ben Coil': ['Ben Coil'], 'Moomin Characters': ['Moomin Characters'], 'Nick Kypreos': ['Nick Kypreos'], 'Andy Richter': ['Andy Richter'], 'Ridge': ['Ridge'], 'Megan Lovelace': ['Megan Lovelace'], 'Laura Herndon': ['Laura Herndon'], 'Fate Under Fire': ['Fate Under Fire'], 'Andrew Joslyn': ['Andrew Joslyn'], 'Bailey Pride': ['Bailey Pride'], 'Marya E. Gates': ['Marya E. Gates'], 'Diego Garcia': ['Diego Garcia'], 'Mackenzie Stevens': ['Mackenzie Stevens'], 'Karalyn West': ['Karalyn West'], 'Jonathan Rajewski': ['Jonathan Rajewski'], 'Harry Thumbfriend': ['Harry Thumbfriend'], 'Love Singh': ['Love Singh'], 'Emma Morrison': ['Emma Morrison'], 'Kevin Stokes': ['Kevin Stokes'], 'Disney Marie': ['Disney Marie'], 'Chris Geidner': ['Chris Geidner'], 'felisa': ['felisa'], 'Gru': ['Gru'], 'John Lewis': ['John Lewis'], 'Patrick Whittle': ['Patrick Whittle'], 'Heston Blumenthal': ['Heston Blumenthal'], 'Parker Molloy': ['Parker Molloy'], 'Leander Kahney': ['Leander Kahney'], 'Imani Gandy': ['Imani Gandy'], 'Beat Brown': ['Beat Brown'], 'Trey Amick': ['Trey Amick'], 'Gerry The Giraffe': ['Gerry The Giraffe'], 'Jack Black': ['Jack Black'], 'Alexandra Clontz': ['Alexandra Clontz'], 'Eric Huber': ['Eric Huber'], 'Barry': ['Barry'], 'Adam Silver': ['Adam Silver'], 'Paul F. Tompkins': ['Paul F. Tompkins'], 'Ryan MacLatchie': ['Ryan MacLatchie'], 'Anderson Cooper': ['Anderson Cooper'], 'Pink Panther': ['Pink Panther'], 'elan gale': ['elan gale'], 'Top Gear': ['Top Gear'], 'Matthew Wonneman': ['Matthew Wonneman'], 'Jamey Tubbs': ['Jamey Tubbs'], 'Lara Cohen': ['Lara Cohen'], 'Jill Massey': ['Jill Massey'], 'Xavier Mccollum': ['Xavier Mccollum'], 'Leslie Jones': ['Leslie Jones'], 'Molang': ['Molang'], 'Angela Ahrendts': ['Angela Ahrendts'], 'Carrie': ['Carrie'], 'Gene Park': ['Gene Park'], 'Aliena Venti': ['Aliena Venti'], 'H&R Block': ['H&R Block'], 'Malthe': ['Malthe'], 'Steve Aoki': ['Steve Aoki'], 'Imagineer Co., Ltd. / San-X Co., Ltd.': ['Imagineer Co., Ltd. / San-X Co., Ltd.'], 'Alexa August': ['Alexa August'], 'Ferocious Fecky': ['Ferocious Fecky'], 'Andy Milonakis': ['Andy Milonakis'], 'Jason Kimble': ['Jason Kimble'], 'B. W. Carlin': ['B. W. Carlin'], 'Matilda': ['Matilda'], 'Solo': ['Solo'], 'Isaac Rodriguez': ['Isaac Rodriguez'], 'Bong Joon Ho': ['Bong Joon Ho'], 'Woody Harrelson': ['Woody Harrelson'], 'Shiba Maru': ['Shiba Maru'], 'Zach Smith': ['Zach Smith'], 'jimmy longo jr': ['jimmy longo jr'], 'Forest King': ['Forest King'], 'Jack Slater': ['Jack Slater'], 'Tony': ['Tony', 'Tony Posnanski', 'Tony X'], 'Jon Favreau': ['Jon Favreau', 'Jon Lovett'], 'The Office': ['The Office'], 'Jayde Fish': ['Jayde Fish'], 'Bill': ['Bill', 'Bill Nye'], 'Prince Frodi': ['Prince Frodi'], 'AdeEsquire': ['AdeEsquire'], 'Ted': ['Ted'], 'Jen': ['Jen'], 'Chloe Brown': ['Chloe Brown'], 'Mariisonn': ['Mariisonn'], 'Nathe': ['Nathe'], 'Agnes': ['Agnes'], 'Kierstin': ['Kierstin'], 'Nyle DiMarco': ['Nyle DiMarco'], 'Minseung Song': ['Minseung Song'], 'Krissy Allegra': ['Krissy Allegra'], 'Jason Bailey': ['Jason Bailey'], 'Nixon': ['Nixon'], 'Catbug': ['Catbug'], 'Calogero Anello': ['Calogero Anello'], 'Jake Tapper': ['Jake Tapper'], 'Mochi': ['Mochi'], 'Darren Brennan': ['Darren Brennan'], 'Eddy Cue': ['Eddy Cue'], 'cindymindy10': ['cindymindy10'], 'Ed Sheeran': ['Ed Sheeran'], 'Alyssa Milano': ['Alyssa Milano'], 'JoJo': ['JoJo'], 'Cony': ['Cony'], 'Shelby Earl': ['Shelby Earl'], 'Reggie': ['Reggie'], 'Priidu': ['Priidu']}\n",
      "{'9195794674': ['9195794674', '(919) 579-4674', '+1 919-579-4674', '919-579-4674', '+1 (919) 579-4674'], '2015972139': ['2015972139'], '732-509-1853': ['732-509-1853'], '919-504-2998': ['919-504-2998', '+19195042998'], '(843) 751-4985': ['(843) 751-4985', '+18437514985'], '897-606-7085': ['897-606-7085'], '(323) 320-5525': ['(323) 320-5525', '+13233205525'], '(234) 757-0651': ['(234) 757-0651', '+12347570651'], '(323) 320-8934': ['(323) 320-8934', '+13233208934'], '196-802-3223': ['196-802-3223'], '4257323247': ['4257323247'], '272-500-4088': ['272-500-4088', '2725004088'], '335-078-2535': ['335-078-2535'], '101-416-0490': ['101-416-0490'], '272-991-1969': ['272-991-1969'], '4020532937': ['4020532937'], '(234) 900-8124': ['(234) 900-8124', '+12349008124'], '889-782-1623': ['889-782-1623'], '7047277581': ['7047277581'], '2690190536': ['2690190536', '269-019-0536'], '(225) 369-0855': ['(225) 369-0855', '+12253690855'], '619-683-5266': ['619-683-5266'], '+19195790479': ['+19195790479', '9195790479', '(919) 579-0479', '+1 919-579-0479'], '+1 575-586-3247': ['+1 575-586-3247', '+15755863247'], '283-317-7377': ['283-317-7377'], '109-263-6219': ['109-263-6219'], '770-102-4876': ['770-102-4876'], '406-172-9417': ['406-172-9417', '4061729417'], '2092084168': ['2092084168'], '+17162394257': ['+17162394257', '(716) 239-4257'], '270-717-0146': ['270-717-0146', '2707170146'], '2099215602': ['2099215602'], '+19102697333': ['+19102697333', '(910) 269-7333'], '727-261-0971': ['727-261-0971'], '727-274-9424': ['727-274-9424'], '108-365-6409': ['108-365-6409'], '919-364-1420': ['919-364-1420', '+19193641420'], '4152233930': ['4152233930'], '9368974384': ['9368974384'], '7034744329': ['7034744329'], '985-620-3170': ['985-620-3170'], '518-976-2781': ['518-976-2781'], '133-678-8100': ['133-678-8100'], '716-434-7759': ['716-434-7759'], '796-396-3771': ['796-396-3771'], '2146272419': ['2146272419'], '406-198-7650': ['406-198-7650'], '973-666-9700': ['973-666-9700'], '952-342-9234': ['952-342-9234'], '500-ead-9d42': ['500-ead-9d42'], '22824420': ['22824420'], '406-586-4619': ['406-586-4619'], '220-403-4272': ['220-403-4272', '2204034272'], '8304333127': ['8304333127'], '3257608936': ['3257608936'], '404-788-5253': ['404-788-5253'], '4351988732': ['4351988732'], '19195794674': ['19195794674', '+19195794674'], '+19195121037': ['+19195121037', '+1 919-512-1037'], '919-636-5829': ['919-636-5829', '19196365829'], '984-235-2054': ['984-235-2054', '19842352054', '9842352054']}\n",
      "{'152 Sweet Vista Lane, Holly Springs, North Carolina 27540-6173, United States': ['152 Sweet Vista Lane, Holly Springs, North Carolina 27540-6173, United States', '0301 Mint Julep Way, Holly Springs, NC 27540, USA', '100 Duck Savannah Dr, Holly Springs, NC 27540', '532 Ancient Oaks Dr, Holly Springs, NC 27540, USA'], 'Washington DC': ['Washington DC', 'Washington, D.C.', 'Washington, DC'], 'North Main Street': ['North Main Street', 'N Main St'], '161 Leahy Center, Burlington, VT': ['161 Leahy Center, Burlington, VT', 'Burlington, Vermont'], 'Burbank, CA': ['Burbank, CA', 'Los Angeles, CA', 'Los Angeles', 'Los Angeles, CA; elsewhere', 'Koreatown, Los Angeles'], 'Mississauga, Ontario': ['Mississauga, Ontario'], 'West Ballentine Street': ['West Ballentine Street'], '202, St. Helena, 290, SH, 3187, 0': ['202, St. Helena, 290, SH, 3187, 0'], 'Ancient Oaks Drive': ['Ancient Oaks Drive', 'Ancient Oaks Dr'], 'Holly Springs New Hill Road': ['Holly Springs New Hill Road', 'Holly Springs New Hill Rd', 'New Hill Road', 'New Hill Rd', 'Holly Springs New Hill Road/New Hill Road', 'New Hill Rd and W Holly Springs Rd'], 'Baltimore, MD': ['Baltimore, MD', 'Millersville, MD'], '240,30973,Starbucks,Starbucks Coffee,https://pbs.twimg.com/profile_images/1109148609218412545/XDVmdQm9_normal.png,2,,0,,,,,,,,,Seattle, WA,,,,,,,,,1580783322186,-1,,,,,,,': ['240,30973,Starbucks,Starbucks Coffee,https://pbs.twimg.com/profile_images/1109148609218412545/XDVmdQm9_normal.png,2,,0,,,,,,,,,Seattle, WA,,,,,,,,,1580783322186,-1,,,,,,,\\nSeattle, WA'], 'New York, NY USA': ['New York, NY USA', 'New York, NY', 'New York, New York', 'Brooklyn, NY'], 'Durham, NC': ['Durham, NC', '130,17135339,Kramden,Kramden Institute,https://pbs.twimg.com/profile_images/530075659201024000/dvThJRIp_normal.jpeg,0,,1024,,,,,,,,,Durham, North Carolina,,,,,,,,,1580783322165,-1,,,,,,,\\nDurham, North Carolina'], 'United States': ['United States', 'Raleigh, US', 'Holly Springs, US'], '168 Grand Hill Place, NC, United States': ['168 Grand Hill Place, NC, United States', '124 Grand Hill Place, NC, United States', '164 Grand Hill Pl, NC, United States', '101 Grand Hill Pl, NC, United States', '111 Grand Hill Place, NC, United States', '2008 Green Oaks Pkwy, NC, United States', '181 Grand Hill Pl, NC, United States', '165 Grand Hill Pl, NC, United States', '153 Grand Hill Pl, NC, United States', '107 Grand Hill Pl, NC, United States', '100 Grand Hill Pl, NC, United States', '201 Grand Hill Place, NC, United States', '161 Grand Hill Place Holly Springs Towne Center, NC, United States', 'Rambling Oaks Drive, NC, United States', '172 Grand Hill Pl, NC, United States', '185 Grand Hill Place, NC, United States', 'NC 55 Bypass and New Hill Road, NC, United States'], '235, Vatican City State, 379, VA, 24150, 0': ['235, Vatican City State, 379, VA, 24150, 0', 'Vatican City'], 'Judy E Heath’s bungalow': ['Judy E Heath’s bungalow'], 'Orlando, FL': ['Orlando, FL'], 'Green Oaks Parkway': ['Green Oaks Parkway', 'Green Oaks Pkwy and NC-55 Bypass E'], 'Questa, NM': ['Questa, NM'], '242 S Main St Suite 118': ['242 S Main St Suite 118', '242 S Main St Suite 118, Holly Springs, NC 27540', '0242 S Main St Suite 118, Holly Springs, NC 27540', 'Sir Walter Coffee + Kitchen, 242 S Main St Suite 118, Holly Springs, NC 27540', '42 S Main St Suite 1 18'], '121 E Tryon Rd, Raleigh, NC 27603': ['121 E Tryon Rd, Raleigh, NC 27603', '121 E Tryon Rd, Raleigh, NC 27603-3582, USA'], 'Irving, Texas': ['Irving, Texas'], 'West Elm Avenue': ['West Elm Avenue'], 'Houston, TX': ['Houston, TX'], '30 Enterprise Avenue North, Secaucus, New Jersey 07094-2527, United States': ['30 Enterprise Avenue North, Secaucus, New Jersey 07094-2527, United States'], 'Oxford, Alabama': ['Oxford, Alabama'], 'Ballina, Co. Mayo, Ireland': ['Ballina, Co. Mayo, Ireland'], 'Big Shadow Trail': ['Big Shadow Trail'], 'Marietta, GA': ['Marietta, GA', 'Atlanta, GA'], 'Phenix City, AL': ['Phenix City, AL'], 'Tottenham, London, England': ['Tottenham, London, England'], 'Hells Gate, NY': ['Hells Gate, NY'], 'Cupertino, CA': ['Cupertino, CA', 'Palo Alto, CA', 'Oakland, CA', 'San Francisco, CA'], 'Geneva, Switzerland': ['Geneva, Switzerland'], '8233,Sumikko Gurashi Pop-Up Corner,2,4,1,1580622200039': ['8233,Sumikko Gurashi Pop-Up Corner,2,4,1,1580622200039'], '100 Grand Hill Pl, NC, United States': ['100 Grand Hill Pl, NC, United States', '101 Grand Hill Pl, NC, United States', '107 Grand Hill Pl, NC, United States', '111 Grand Hill Place, NC, United States', '153 Grand Hill Pl, NC, United States', '161 Grand Hill Place Holly Springs Towne Center, NC, United States', '165 Grand Hill Pl, NC, United States', '168 Grand Hill Place, NC, United States', '172 Grand Hill Pl, NC, United States', '181 Grand Hill Pl, NC, United States', '185 Grand Hill Place, NC, United States', '201 Grand Hill Place, NC, United States'], 'Raleigh, US': ['Raleigh, US'], 'Palo Alto, CA': ['Palo Alto, CA', 'Oakland, CA', 'San Francisco, CA', 'Cupertino, CA'], 'Holly Springs, NC': ['Holly Springs, NC', 'Holly Springs, North Carolina'], 'Brooklyn, NY': ['Brooklyn, NY'], 'Denver, CO': ['Denver, CO'], 'Dayton, OH': ['Dayton, OH', 'Cleveland, OH']}\n"
     ]
    }
   ],
   "source": [
    "# name_mapping = {}  # 辅助映射，用于跟踪节点的实际名称\n",
    "similar_evidence_mapping= langchain_chatgpt.get_group_result_from_txt(\"/home/hzhou/llama2/llama/experiment_result/result/Apps_in_the_document/group_result.txt\")"
   ]
  },
  {
   "cell_type": "markdown",
   "metadata": {},
   "source": [
    "2. relationship edge coverage"
   ]
  },
  {
   "cell_type": "code",
   "execution_count": 19,
   "metadata": {},
   "outputs": [],
   "source": [
    "def calculate_relationship_accuracy(data_summary_path, db_graph_file_path,xml_graph_file_path):\n",
    "    import pandas as pd\n",
    "    from ast import literal_eval\n",
    "\n",
    "    #load orginal document summary files, db grapg file and xml graph file\n",
    "    df1_original_document = pd.read_csv(data_summary_path)\n",
    "    df2_db = pd.read_csv(db_graph_file_path)\n",
    "    df3_xml= pd.read_csv(xml_graph_file_path)\n",
    "\n",
    "    similar_evidence_mapping= langchain_chatgpt.get_group_result_from_txt(\"/home/hzhou/llama2/llama/experiment_result/result/Apps_in_the_document/group_result.txt\")\n",
    "\n",
    "    for index, row in df1_original_document.iterrows():\n",
    "        if row['node_evidence'] in similar_evidence_mapping:\n",
    "            df1_original_document.loc[index, 'node_evidence'] = similar_evidence_mapping[row['node_evidence']]\n",
    "\n",
    "    for index, row in df2_db.iterrows():\n",
    "        if row['node_evidence'] in similar_evidence_mapping:\n",
    "           df2_db.loc[index, 'node_evidence'] = similar_evidence_mapping[row['node_evidence']]\n",
    "\n",
    "    for index, row in df3_xml.iterrows():\n",
    "        if row['node_evidence'] in similar_evidence_mapping:\n",
    "           df3_xml.loc[index, 'node_evidence'] = similar_evidence_mapping[row['node_evidence']]\n",
    "    \n",
    "\n",
    "    evidence_count=0\n",
    "    # Extract the necessary columns and handle NaN values\n",
    "    original_document_node_evidence_1 = df1_original_document.set_index('node_evidence_number')['node_evidence'].dropna()\n",
    "    db_node_evidence_2 = df2_db.set_index('node_evidence_number')['node_evidence'].dropna()\n",
    "    xml_node_evidence_3 = df3_xml.set_index('node_evidence_number')['node_evidence'].dropna()\n",
    "\n",
    "\n",
    "    original_document_edge_relationship_sameapp = df1_original_document['edge_relationship_sameapp'].dropna().apply(literal_eval)\n",
    "    db_edge_relationship_sameline = df2_db['edge_relationship_sameline'].dropna().apply(literal_eval)\n",
    "    xml_edge_relationship_samefile = df3_xml['edge_relationship_sameline'].dropna().apply(literal_eval)\n",
    "    \n",
    "    # print(node_evidence_1)\n",
    "    \n",
    "    # Create sets of node pairs in both dataframes\n",
    "    #orignial document\n",
    "    # orignial_document_edge_set_1 = set()\n",
    "    orignial_document_edge_set_1 = []\n",
    "    evidence_number_turple=[]\n",
    "    for evidence_pairs_array in original_document_edge_relationship_sameapp:        \n",
    "        for pair in evidence_pairs_array:            \n",
    "            try:\n",
    "                n1, n2 = pair                \n",
    "                if(pair in evidence_number_turple):\n",
    "                    continue\n",
    "                else:\n",
    "                    evidence_number_turple.append(pair)\n",
    "                # orignial_document_edge_set_1.add((original_document_node_evidence_1[n1], original_document_node_evidence_1[n2]))\n",
    "                orignial_document_edge_set_1.append((original_document_node_evidence_1[n1], original_document_node_evidence_1[n2]))\n",
    "            except KeyError:\n",
    "                # Skip pairs where node_evidence_number does not exist\n",
    "                continue\n",
    "        \n",
    "    #database graph\n",
    "    db_edge_set_2 = set()\n",
    "    for evidence_pairs_array in db_edge_relationship_sameline:\n",
    "        for pair in evidence_pairs_array:    \n",
    "            try:\n",
    "                n1, n2 = pair\n",
    "                db_edge_set_2.add((db_node_evidence_2[n1], db_node_evidence_2[n2]))\n",
    "            except KeyError:\n",
    "                # Skip pairs where node_evidence_number does not exist\n",
    "                continue\n",
    "    \n",
    "    #xml graph\n",
    "    xml_edge_set_3 = set()\n",
    "    for evidence_pairs_array in xml_edge_relationship_samefile:\n",
    "        for pair in evidence_pairs_array:    \n",
    "            try:\n",
    "                n1, n2 = pair\n",
    "                xml_edge_set_3.add((xml_node_evidence_3[n1], xml_node_evidence_3[n2]))\n",
    "            except KeyError:\n",
    "                # Skip pairs where node_evidence_number does not exist\n",
    "                continue    \n",
    "    \n",
    "    \n",
    "    # Apply the mapping and calculate similarities\n",
    "    # orignial_document_edge_set_1 = {\n",
    "    #     (similar_evidence_mapping.get(n1, n1), similar_evidence_mapping.get(n2, n2))\n",
    "    #     for n1, n2 in orignial_document_edge_set_1\n",
    "    # }\n",
    "    orignial_document_edge_set_1 = [\n",
    "        (similar_evidence_mapping.get(n1, n1), similar_evidence_mapping.get(n2, n2))\n",
    "        for n1, n2 in orignial_document_edge_set_1\n",
    "    ]        \n",
    "    print(f\"orignial_document_edge_set_1:{orignial_document_edge_set_1}\")\n",
    "    print(len(orignial_document_edge_set_1))\n",
    "    db_edge_set_2 = {\n",
    "        (similar_evidence_mapping.get(n1, n1), similar_evidence_mapping.get(n2, n2))\n",
    "        for n1, n2 in db_edge_set_2\n",
    "    }\n",
    "    \n",
    "    xml_edge_set_3  = {\n",
    "        (similar_evidence_mapping.get(n1, n1), similar_evidence_mapping.get(n2, n2))\n",
    "        for n1, n2 in xml_edge_set_3 \n",
    "    }\n",
    "    # print(f\"xml_edge_set_3:{xml_edge_set_3}\")\n",
    "    filename = 'xml_edges.txt'\n",
    "\n",
    "    # Test: 将xml_edge_set_3存入txt文件中进行查看\n",
    "    with open(filename, 'w', encoding='utf-8') as file:\n",
    "        for edge in xml_edge_set_3:\n",
    "            file.write(str(edge))\n",
    "            file.write('\\n')\n",
    "    # # print(\"\\n\")\n",
    "    # print(f\"db_edge_set_2:{db_edge_set_2}\")\n",
    "    # print(\"\\n\")\n",
    "    # print(f\"xml_edge_set_3:{xml_edge_set_3}\")\n",
    "    # Calculate how many pairs in edge_set_1 are present in edge_set_2\n",
    "    common_pair_count = 0\n",
    "    common_array=[]\n",
    "    for pair1 in orignial_document_edge_set_1:\n",
    "        for pair2 in db_edge_set_2:\n",
    "            if (pair1==pair2):\n",
    "                print(f\"pair2:{pair2}\")\n",
    "                common_array.append(pair2)\n",
    "                common_pair_count += 1\n",
    "                break\n",
    "            \n",
    "    for pair1 in orignial_document_edge_set_1:\n",
    "        for pair3 in xml_edge_set_3:\n",
    "            if (pair1==pair3) and (pair3 not in common_array):\n",
    "                print(f\"pair3:{pair3}\")\n",
    "                common_array.append(pair3)\n",
    "                common_pair_count += 1\n",
    "                break\n",
    "    \n",
    "    # Calculate the accuracy\n",
    "    accuracy = common_pair_count / len(orignial_document_edge_set_1) if len(orignial_document_edge_set_1) > 0 else 0\n",
    "    print(len(orignial_document_edge_set_1))\n",
    "    print(len(common_array))\n",
    "    return accuracy\n"
   ]
  },
  {
   "cell_type": "code",
   "execution_count": 20,
   "metadata": {},
   "outputs": [
    {
     "name": "stdout",
     "output_type": "stream",
     "text": [
      "orignial_document_edge_set_1:[('ThisIsDFIR', 'thisisdfir@gmail.com'), ('ThisIsDFIR', 'thisisdfir@gmail.com'), ('ThisIsDFIR', '+19195794674'), ('ThisIsDFIR', '+19195794674'), ('ThisIsDFIR', '919-636-5829'), ('+19195794674', 'ThisIsDFIR'), ('ThisIsDFIR', 'ThisIsDFIR'), ('ThisIsDFIR', 'thisisdfir@gmail.com'), ('ThisIsDFIR', 'thisisdfir@gmail.com'), ('ThisIsDFIR', 'ThisIsDFIR'), ('ThisIsDFIR', 'thisisdfir@gmail.com'), ('ThisIsDFIR', 'thisisdfir@gmail.com'), ('ThisIsDFIR', '+19195794674'), ('thisisdfir@gmail.com', '984-235-2054'), ('ThisIsDFIR', 'thisisdfir@gmail.com'), ('thisisdfir100', '+19195794674'), ('ThisIsDFIR', 'thisisdfir@gmail.com'), ('ThisIsDFIR', '+19195794674'), ('thisisdfir@gmail.com', '+19195794674'), ('7629 Purfoy Road in Fuquay-Varina, North Carolina', 'Sir Walter Coffee in Holly Springs, North Carolina'), ('3.32629E+11', '+19195121037'), ('3.32629E+11', '+1 575-586-3247'), ('+19195121037', '+1 575-586-3247'), ('tdfirtwo', 'This Is DFIR Two'), ('tdfirtwo', 'thisisdfirtwo@gmail.com'), ('This Is DFIR Two', 'thisisdfirtwo@gmail.com')]\n",
      "26\n",
      "pair2:('ThisIsDFIR', 'thisisdfir@gmail.com')\n",
      "pair2:('ThisIsDFIR', 'thisisdfir@gmail.com')\n",
      "pair2:('ThisIsDFIR', '+19195794674')\n",
      "pair2:('ThisIsDFIR', '+19195794674')\n",
      "pair2:('+19195794674', 'ThisIsDFIR')\n",
      "pair2:('ThisIsDFIR', 'ThisIsDFIR')\n",
      "pair2:('ThisIsDFIR', 'thisisdfir@gmail.com')\n",
      "pair2:('ThisIsDFIR', 'thisisdfir@gmail.com')\n",
      "pair2:('ThisIsDFIR', 'ThisIsDFIR')\n",
      "pair2:('ThisIsDFIR', 'thisisdfir@gmail.com')\n",
      "pair2:('ThisIsDFIR', 'thisisdfir@gmail.com')\n",
      "pair2:('ThisIsDFIR', '+19195794674')\n",
      "pair2:('ThisIsDFIR', 'thisisdfir@gmail.com')\n",
      "pair2:('ThisIsDFIR', 'thisisdfir@gmail.com')\n",
      "pair2:('ThisIsDFIR', '+19195794674')\n",
      "pair2:('thisisdfir@gmail.com', '+19195794674')\n",
      "pair3:('ThisIsDFIR', '919-636-5829')\n",
      "pair3:('thisisdfir@gmail.com', '984-235-2054')\n",
      "pair3:('thisisdfir100', '+19195794674')\n",
      "pair3:('+19195121037', '+1 575-586-3247')\n",
      "26\n",
      "20\n"
     ]
    },
    {
     "data": {
      "text/plain": [
       "0.7692307692307693"
      ]
     },
     "execution_count": 20,
     "metadata": {},
     "output_type": "execute_result"
    }
   ],
   "source": [
    "# Example usage\n",
    "data_summary_path = '/home/hzhou/llama2/llama/experiment_result/result/Apps_in_the_document/Android10 data summary for graph.csv'\n",
    "db_graph_file_path = '/home/hzhou/llama2/llama/experiment_result/result/Apps_in_the_document/db_graphstep2_Apps_in_the_Document.csv'\n",
    "xml_graph_file_path = \"/home/hzhou/llama2/llama/experiment_result/result/Apps_in_the_document/xml_graphstep1_Apps_in_the_Document.csv\"\n",
    "relationship_accuracy = calculate_relationship_accuracy(data_summary_path, db_graph_file_path,xml_graph_file_path)\n",
    "relationship_accuracy"
   ]
  },
  {
   "cell_type": "code",
   "execution_count": null,
   "metadata": {},
   "outputs": [],
   "source": []
  }
 ],
 "metadata": {
  "kernelspec": {
   "display_name": "GPU3",
   "language": "python",
   "name": "python3"
  },
  "language_info": {
   "codemirror_mode": {
    "name": "ipython",
    "version": 3
   },
   "file_extension": ".py",
   "mimetype": "text/x-python",
   "name": "python",
   "nbconvert_exporter": "python",
   "pygments_lexer": "ipython3",
   "version": "3.9.16"
  },
  "orig_nbformat": 4
 },
 "nbformat": 4,
 "nbformat_minor": 2
}
